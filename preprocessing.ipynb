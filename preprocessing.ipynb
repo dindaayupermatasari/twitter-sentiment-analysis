{
 "cells": [
  {
   "cell_type": "markdown",
   "id": "9007ef3d",
   "metadata": {},
   "source": [
    "# **Import Library**"
   ]
  },
  {
   "cell_type": "code",
   "execution_count": 1,
   "id": "8b4ce49e",
   "metadata": {},
   "outputs": [
    {
     "name": "stderr",
     "output_type": "stream",
     "text": [
      "[nltk_data] Downloading package punkt to C:\\Users\\Dicky\n",
      "[nltk_data]     Zulfikar\\AppData\\Roaming\\nltk_data...\n",
      "[nltk_data]   Package punkt is already up-to-date!\n",
      "[nltk_data] Downloading package stopwords to C:\\Users\\Dicky\n",
      "[nltk_data]     Zulfikar\\AppData\\Roaming\\nltk_data...\n",
      "[nltk_data]   Package stopwords is already up-to-date!\n"
     ]
    },
    {
     "data": {
      "text/plain": [
       "True"
      ]
     },
     "execution_count": 1,
     "metadata": {},
     "output_type": "execute_result"
    }
   ],
   "source": [
    "import re\n",
    "import nltk\n",
    "import string\n",
    "import emoji\n",
    "import pandas as pd\n",
    "import seaborn as sns\n",
    "import matplotlib.pyplot as plt\n",
    "import matplotlib.dates as mdates\n",
    "from nltk.corpus import stopwords\n",
    "from wordcloud import WordCloud, STOPWORDS\n",
    "from nltk.corpus import stopwords as nltk_stopwords\n",
    "from nltk.tokenize import word_tokenize\n",
    "from Sastrawi.Stemmer.StemmerFactory import StemmerFactory\n",
    "\n",
    "nltk.download('punkt')\n",
    "nltk.download('stopwords')"
   ]
  },
  {
   "cell_type": "markdown",
   "id": "8f3941a8",
   "metadata": {},
   "source": [
    "# **Load Data**"
   ]
  },
  {
   "cell_type": "code",
   "execution_count": 2,
   "id": "70c8ff17",
   "metadata": {},
   "outputs": [],
   "source": [
    "data1 = pd.read_csv(\"datasets/kebebasan_pers.csv\")\n",
    "data2 = pd.read_csv(\"datasets/pembungkaman_pers.csv\")\n",
    "\n",
    "df = pd.concat([data1, data2], ignore_index=True)\n",
    "df.to_csv(\"tweets_pers.csv\", index=False)"
   ]
  },
  {
   "cell_type": "code",
   "execution_count": 3,
   "id": "2a984046",
   "metadata": {},
   "outputs": [
    {
     "data": {
      "text/html": [
       "<div>\n",
       "<style scoped>\n",
       "    .dataframe tbody tr th:only-of-type {\n",
       "        vertical-align: middle;\n",
       "    }\n",
       "\n",
       "    .dataframe tbody tr th {\n",
       "        vertical-align: top;\n",
       "    }\n",
       "\n",
       "    .dataframe thead th {\n",
       "        text-align: right;\n",
       "    }\n",
       "</style>\n",
       "<table border=\"1\" class=\"dataframe\">\n",
       "  <thead>\n",
       "    <tr style=\"text-align: right;\">\n",
       "      <th></th>\n",
       "      <th>conversation_id_str</th>\n",
       "      <th>created_at</th>\n",
       "      <th>favorite_count</th>\n",
       "      <th>full_text</th>\n",
       "      <th>id_str</th>\n",
       "      <th>image_url</th>\n",
       "      <th>in_reply_to_screen_name</th>\n",
       "      <th>lang</th>\n",
       "      <th>location</th>\n",
       "      <th>quote_count</th>\n",
       "      <th>reply_count</th>\n",
       "      <th>retweet_count</th>\n",
       "      <th>tweet_url</th>\n",
       "      <th>user_id_str</th>\n",
       "      <th>username</th>\n",
       "    </tr>\n",
       "  </thead>\n",
       "  <tbody>\n",
       "    <tr>\n",
       "      <th>0</th>\n",
       "      <td>1947629184714678376</td>\n",
       "      <td>Tue Jul 22 12:05:57 +0000 2025</td>\n",
       "      <td>0</td>\n",
       "      <td>Wakil Gubernur Bali I Nyoman Giri Prasta membe...</td>\n",
       "      <td>1947629184714678376</td>\n",
       "      <td>NaN</td>\n",
       "      <td>NaN</td>\n",
       "      <td>in</td>\n",
       "      <td>NaN</td>\n",
       "      <td>0</td>\n",
       "      <td>0</td>\n",
       "      <td>0</td>\n",
       "      <td>https://x.com/undefined/status/194762918471467...</td>\n",
       "      <td>1293295315148140545</td>\n",
       "      <td>NaN</td>\n",
       "    </tr>\n",
       "    <tr>\n",
       "      <th>1</th>\n",
       "      <td>1944614483714003310</td>\n",
       "      <td>Mon Jul 14 04:26:36 +0000 2025</td>\n",
       "      <td>0</td>\n",
       "      <td>Kasus dugaan intimidasi terhadap jurnalis Jawa...</td>\n",
       "      <td>1944614483714003310</td>\n",
       "      <td>https://pbs.twimg.com/amplify_video_thumb/1944...</td>\n",
       "      <td>NaN</td>\n",
       "      <td>in</td>\n",
       "      <td>NaN</td>\n",
       "      <td>0</td>\n",
       "      <td>0</td>\n",
       "      <td>0</td>\n",
       "      <td>https://x.com/undefined/status/194461448371400...</td>\n",
       "      <td>1571102928852897798</td>\n",
       "      <td>NaN</td>\n",
       "    </tr>\n",
       "    <tr>\n",
       "      <th>2</th>\n",
       "      <td>1937912480186937535</td>\n",
       "      <td>Wed Jun 25 16:35:14 +0000 2025</td>\n",
       "      <td>1</td>\n",
       "      <td>Pembungkaman media tanda sakitnya demokrasi #d...</td>\n",
       "      <td>1937912480186937535</td>\n",
       "      <td>https://pbs.twimg.com/media/GuTZIV9bEAAl8Xv.jpg</td>\n",
       "      <td>NaN</td>\n",
       "      <td>in</td>\n",
       "      <td>NaN</td>\n",
       "      <td>0</td>\n",
       "      <td>0</td>\n",
       "      <td>0</td>\n",
       "      <td>https://x.com/undefined/status/193791248018693...</td>\n",
       "      <td>952232797476802562</td>\n",
       "      <td>NaN</td>\n",
       "    </tr>\n",
       "    <tr>\n",
       "      <th>3</th>\n",
       "      <td>1937400838584172770</td>\n",
       "      <td>Tue Jun 24 06:42:09 +0000 2025</td>\n",
       "      <td>0</td>\n",
       "      <td>RUU Penyiaran disusun Komdigi dengan Nezar Pat...</td>\n",
       "      <td>1937400838584172770</td>\n",
       "      <td>https://pbs.twimg.com/media/GuMHySRagAIXZnr.jpg</td>\n",
       "      <td>NaN</td>\n",
       "      <td>in</td>\n",
       "      <td>NaN</td>\n",
       "      <td>0</td>\n",
       "      <td>0</td>\n",
       "      <td>0</td>\n",
       "      <td>https://x.com/undefined/status/193740083858417...</td>\n",
       "      <td>1704017670507819008</td>\n",
       "      <td>NaN</td>\n",
       "    </tr>\n",
       "    <tr>\n",
       "      <th>4</th>\n",
       "      <td>1937395247748882705</td>\n",
       "      <td>Tue Jun 24 06:19:56 +0000 2025</td>\n",
       "      <td>1</td>\n",
       "      <td>Nezar Patria Wamenkomdigi memastikan pemerinta...</td>\n",
       "      <td>1937395247748882705</td>\n",
       "      <td>https://pbs.twimg.com/media/GuMCs8fagAM4mxz.jpg</td>\n",
       "      <td>NaN</td>\n",
       "      <td>in</td>\n",
       "      <td>NaN</td>\n",
       "      <td>0</td>\n",
       "      <td>0</td>\n",
       "      <td>0</td>\n",
       "      <td>https://x.com/undefined/status/193739524774888...</td>\n",
       "      <td>1698999506736713728</td>\n",
       "      <td>NaN</td>\n",
       "    </tr>\n",
       "  </tbody>\n",
       "</table>\n",
       "</div>"
      ],
      "text/plain": [
       "   conversation_id_str                      created_at  favorite_count  \\\n",
       "0  1947629184714678376  Tue Jul 22 12:05:57 +0000 2025               0   \n",
       "1  1944614483714003310  Mon Jul 14 04:26:36 +0000 2025               0   \n",
       "2  1937912480186937535  Wed Jun 25 16:35:14 +0000 2025               1   \n",
       "3  1937400838584172770  Tue Jun 24 06:42:09 +0000 2025               0   \n",
       "4  1937395247748882705  Tue Jun 24 06:19:56 +0000 2025               1   \n",
       "\n",
       "                                           full_text               id_str  \\\n",
       "0  Wakil Gubernur Bali I Nyoman Giri Prasta membe...  1947629184714678376   \n",
       "1  Kasus dugaan intimidasi terhadap jurnalis Jawa...  1944614483714003310   \n",
       "2  Pembungkaman media tanda sakitnya demokrasi #d...  1937912480186937535   \n",
       "3  RUU Penyiaran disusun Komdigi dengan Nezar Pat...  1937400838584172770   \n",
       "4  Nezar Patria Wamenkomdigi memastikan pemerinta...  1937395247748882705   \n",
       "\n",
       "                                           image_url in_reply_to_screen_name  \\\n",
       "0                                                NaN                     NaN   \n",
       "1  https://pbs.twimg.com/amplify_video_thumb/1944...                     NaN   \n",
       "2    https://pbs.twimg.com/media/GuTZIV9bEAAl8Xv.jpg                     NaN   \n",
       "3    https://pbs.twimg.com/media/GuMHySRagAIXZnr.jpg                     NaN   \n",
       "4    https://pbs.twimg.com/media/GuMCs8fagAM4mxz.jpg                     NaN   \n",
       "\n",
       "  lang  location  quote_count  reply_count  retweet_count  \\\n",
       "0   in       NaN            0            0              0   \n",
       "1   in       NaN            0            0              0   \n",
       "2   in       NaN            0            0              0   \n",
       "3   in       NaN            0            0              0   \n",
       "4   in       NaN            0            0              0   \n",
       "\n",
       "                                           tweet_url          user_id_str  \\\n",
       "0  https://x.com/undefined/status/194762918471467...  1293295315148140545   \n",
       "1  https://x.com/undefined/status/194461448371400...  1571102928852897798   \n",
       "2  https://x.com/undefined/status/193791248018693...   952232797476802562   \n",
       "3  https://x.com/undefined/status/193740083858417...  1704017670507819008   \n",
       "4  https://x.com/undefined/status/193739524774888...  1698999506736713728   \n",
       "\n",
       "   username  \n",
       "0       NaN  \n",
       "1       NaN  \n",
       "2       NaN  \n",
       "3       NaN  \n",
       "4       NaN  "
      ]
     },
     "execution_count": 3,
     "metadata": {},
     "output_type": "execute_result"
    }
   ],
   "source": [
    "df.head()"
   ]
  },
  {
   "cell_type": "markdown",
   "id": "99400e0f",
   "metadata": {},
   "source": [
    "# **Data Exploration**"
   ]
  },
  {
   "cell_type": "markdown",
   "id": "2b6bd07d",
   "metadata": {},
   "source": [
    "## Cek Struktur Data"
   ]
  },
  {
   "cell_type": "code",
   "execution_count": 4,
   "id": "361d502b",
   "metadata": {},
   "outputs": [
    {
     "data": {
      "text/plain": [
       "(712, 15)"
      ]
     },
     "execution_count": 4,
     "metadata": {},
     "output_type": "execute_result"
    }
   ],
   "source": [
    "df.shape"
   ]
  },
  {
   "cell_type": "markdown",
   "id": "9dcd3ac8",
   "metadata": {},
   "source": [
    "## Cek Tipe Data"
   ]
  },
  {
   "cell_type": "code",
   "execution_count": 5,
   "id": "6fc2a68a",
   "metadata": {},
   "outputs": [
    {
     "name": "stdout",
     "output_type": "stream",
     "text": [
      "<class 'pandas.core.frame.DataFrame'>\n",
      "RangeIndex: 712 entries, 0 to 711\n",
      "Data columns (total 15 columns):\n",
      " #   Column                   Non-Null Count  Dtype  \n",
      "---  ------                   --------------  -----  \n",
      " 0   conversation_id_str      712 non-null    int64  \n",
      " 1   created_at               712 non-null    object \n",
      " 2   favorite_count           712 non-null    int64  \n",
      " 3   full_text                712 non-null    object \n",
      " 4   id_str                   712 non-null    int64  \n",
      " 5   image_url                258 non-null    object \n",
      " 6   in_reply_to_screen_name  329 non-null    object \n",
      " 7   lang                     712 non-null    object \n",
      " 8   location                 0 non-null      float64\n",
      " 9   quote_count              712 non-null    int64  \n",
      " 10  reply_count              712 non-null    int64  \n",
      " 11  retweet_count            712 non-null    int64  \n",
      " 12  tweet_url                712 non-null    object \n",
      " 13  user_id_str              712 non-null    int64  \n",
      " 14  username                 0 non-null      float64\n",
      "dtypes: float64(2), int64(7), object(6)\n",
      "memory usage: 83.6+ KB\n"
     ]
    }
   ],
   "source": [
    "df.info()"
   ]
  },
  {
   "cell_type": "markdown",
   "id": "54a40034",
   "metadata": {},
   "source": [
    "## Cek Missing Values"
   ]
  },
  {
   "cell_type": "code",
   "execution_count": 6,
   "id": "c96f75e8",
   "metadata": {},
   "outputs": [
    {
     "data": {
      "text/plain": [
       "conversation_id_str          0\n",
       "created_at                   0\n",
       "favorite_count               0\n",
       "full_text                    0\n",
       "id_str                       0\n",
       "image_url                  454\n",
       "in_reply_to_screen_name    383\n",
       "lang                         0\n",
       "location                   712\n",
       "quote_count                  0\n",
       "reply_count                  0\n",
       "retweet_count                0\n",
       "tweet_url                    0\n",
       "user_id_str                  0\n",
       "username                   712\n",
       "dtype: int64"
      ]
     },
     "execution_count": 6,
     "metadata": {},
     "output_type": "execute_result"
    }
   ],
   "source": [
    "df.isnull().sum()"
   ]
  },
  {
   "cell_type": "markdown",
   "id": "04f01775",
   "metadata": {},
   "source": [
    "## Cek Duplicate Data"
   ]
  },
  {
   "cell_type": "code",
   "execution_count": 7,
   "id": "9dd5d0ab",
   "metadata": {},
   "outputs": [
    {
     "data": {
      "text/plain": [
       "0"
      ]
     },
     "execution_count": 7,
     "metadata": {},
     "output_type": "execute_result"
    }
   ],
   "source": [
    "df.duplicated().sum()"
   ]
  },
  {
   "cell_type": "markdown",
   "id": "51655098",
   "metadata": {},
   "source": [
    "# **Preprocessing**"
   ]
  },
  {
   "cell_type": "markdown",
   "id": "0056c4f9",
   "metadata": {},
   "source": [
    "## Drop Column"
   ]
  },
  {
   "cell_type": "code",
   "execution_count": 8,
   "id": "8daea794",
   "metadata": {},
   "outputs": [],
   "source": [
    "df = df.drop(columns=['conversation_id_str', 'id_str', 'image_url', 'in_reply_to_screen_name', \n",
    "                      'lang', 'location', 'user_id_str', 'username'], errors='ignore')"
   ]
  },
  {
   "cell_type": "markdown",
   "id": "89e43ea0",
   "metadata": {},
   "source": [
    "## Format Column Time"
   ]
  },
  {
   "cell_type": "code",
   "execution_count": 9,
   "id": "410862cf",
   "metadata": {},
   "outputs": [
    {
     "name": "stderr",
     "output_type": "stream",
     "text": [
      "C:\\Users\\Dicky Zulfikar\\AppData\\Local\\Temp\\ipykernel_8096\\1730351511.py:1: UserWarning: Could not infer format, so each element will be parsed individually, falling back to `dateutil`. To ensure parsing is consistent and as-expected, please specify a format.\n",
      "  df[\"created_at\"] = pd.to_datetime(df[\"created_at\"], errors=\"coerce\")\n"
     ]
    }
   ],
   "source": [
    "df[\"created_at\"] = pd.to_datetime(df[\"created_at\"], errors=\"coerce\")"
   ]
  },
  {
   "cell_type": "markdown",
   "id": "838cc090",
   "metadata": {},
   "source": [
    "## Text Preprocessing"
   ]
  },
  {
   "cell_type": "code",
   "execution_count": 10,
   "id": "14e69ab5",
   "metadata": {},
   "outputs": [],
   "source": [
    "factory = StemmerFactory()\n",
    "stemmer = factory.create_stemmer()\n",
    "stop_words = set(stopwords.words('indonesian'))\n",
    "\n",
    "def clean_text(text):\n",
    "    # 1. Lowercase\n",
    "    text = text.lower()\n",
    "    \n",
    "    # 2. Membersihkan URL, mention, hashtag, angka, emoji, dan simbol\n",
    "    text = re.sub(r\"http\\S+|www\\S+|https\\S+\", \"\", text)  # hapus URL\n",
    "    text = re.sub(r\"@\\w+|#\\w+\", \"\", text)                # hapus mention & hashtag\n",
    "    text = re.sub(r\"\\d+\", \"\", text)                      # hapus angka\n",
    "    text = emoji.replace_emoji(text, replace='')         # hapus emoji\n",
    "    text = text.translate(str.maketrans(\"\", \"\", string.punctuation))  # hapus tanda baca\n",
    "    \n",
    "    # 3. Tokenisasi\n",
    "    tokens = word_tokenize(text)\n",
    "    \n",
    "    # 4. Stopword removal\n",
    "    tokens = [w for w in tokens if w not in stop_words and len(w) > 2]\n",
    "    \n",
    "    # 5. Stemming \n",
    "    stemmed_tokens = [stemmer.stem(w) for w in tokens]\n",
    "    \n",
    "    return \" \".join(stemmed_tokens)\n",
    "\n",
    "df['clean_text'] = df['full_text'].astype(str).apply(clean_text)"
   ]
  },
  {
   "cell_type": "code",
   "execution_count": null,
   "id": "0598af0a",
   "metadata": {},
   "outputs": [
    {
     "data": {
      "text/html": [
       "<div>\n",
       "<style scoped>\n",
       "    .dataframe tbody tr th:only-of-type {\n",
       "        vertical-align: middle;\n",
       "    }\n",
       "\n",
       "    .dataframe tbody tr th {\n",
       "        vertical-align: top;\n",
       "    }\n",
       "\n",
       "    .dataframe thead th {\n",
       "        text-align: right;\n",
       "    }\n",
       "</style>\n",
       "<table border=\"1\" class=\"dataframe\">\n",
       "  <thead>\n",
       "    <tr style=\"text-align: right;\">\n",
       "      <th></th>\n",
       "      <th>full_text</th>\n",
       "      <th>clean_text</th>\n",
       "    </tr>\n",
       "  </thead>\n",
       "  <tbody>\n",
       "    <tr>\n",
       "      <th>0</th>\n",
       "      <td>Wakil Gubernur Bali I Nyoman Giri Prasta membe...</td>\n",
       "      <td>wakil gubernur bal nyoman giri prasta apresias...</td>\n",
       "    </tr>\n",
       "    <tr>\n",
       "      <th>1</th>\n",
       "      <td>Kasus dugaan intimidasi terhadap jurnalis Jawa...</td>\n",
       "      <td>duga intimidasi jurnalis jawa pos radar bal an...</td>\n",
       "    </tr>\n",
       "    <tr>\n",
       "      <th>2</th>\n",
       "      <td>Pembungkaman media tanda sakitnya demokrasi #d...</td>\n",
       "      <td>bungkam media tanda sakit demokrasi</td>\n",
       "    </tr>\n",
       "    <tr>\n",
       "      <th>3</th>\n",
       "      <td>RUU Penyiaran disusun Komdigi dengan Nezar Pat...</td>\n",
       "      <td>ruu siar susun komdigi nezar patria bukti peri...</td>\n",
       "    </tr>\n",
       "    <tr>\n",
       "      <th>4</th>\n",
       "      <td>Nezar Patria Wamenkomdigi memastikan pemerinta...</td>\n",
       "      <td>nezar patria wamenkomdigi perintah gak campur ...</td>\n",
       "    </tr>\n",
       "  </tbody>\n",
       "</table>\n",
       "</div>"
      ],
      "text/plain": [
       "                                           full_text  \\\n",
       "0  Wakil Gubernur Bali I Nyoman Giri Prasta membe...   \n",
       "1  Kasus dugaan intimidasi terhadap jurnalis Jawa...   \n",
       "2  Pembungkaman media tanda sakitnya demokrasi #d...   \n",
       "3  RUU Penyiaran disusun Komdigi dengan Nezar Pat...   \n",
       "4  Nezar Patria Wamenkomdigi memastikan pemerinta...   \n",
       "\n",
       "                                          clean_text  \n",
       "0  wakil gubernur bal nyoman giri prasta apresias...  \n",
       "1  duga intimidasi jurnalis jawa pos radar bal an...  \n",
       "2                bungkam media tanda sakit demokrasi  \n",
       "3  ruu siar susun komdigi nezar patria bukti peri...  \n",
       "4  nezar patria wamenkomdigi perintah gak campur ...  "
      ]
     },
     "execution_count": 11,
     "metadata": {},
     "output_type": "execute_result"
    }
   ],
   "source": [
    "df_compare = df[['full_text', 'clean_text']].head()\n",
    "df_compare"
   ]
  },
  {
   "cell_type": "code",
   "execution_count": 17,
   "id": "0ca76e52",
   "metadata": {},
   "outputs": [
    {
     "data": {
      "text/html": [
       "<div>\n",
       "<style scoped>\n",
       "    .dataframe tbody tr th:only-of-type {\n",
       "        vertical-align: middle;\n",
       "    }\n",
       "\n",
       "    .dataframe tbody tr th {\n",
       "        vertical-align: top;\n",
       "    }\n",
       "\n",
       "    .dataframe thead th {\n",
       "        text-align: right;\n",
       "    }\n",
       "</style>\n",
       "<table border=\"1\" class=\"dataframe\">\n",
       "  <thead>\n",
       "    <tr style=\"text-align: right;\">\n",
       "      <th></th>\n",
       "      <th>text</th>\n",
       "    </tr>\n",
       "  </thead>\n",
       "  <tbody>\n",
       "    <tr>\n",
       "      <th>0</th>\n",
       "      <td>wakil gubernur bal nyoman giri prasta apresias...</td>\n",
       "    </tr>\n",
       "    <tr>\n",
       "      <th>1</th>\n",
       "      <td>duga intimidasi jurnalis jawa pos radar bal an...</td>\n",
       "    </tr>\n",
       "    <tr>\n",
       "      <th>2</th>\n",
       "      <td>bungkam media tanda sakit demokrasi</td>\n",
       "    </tr>\n",
       "    <tr>\n",
       "      <th>3</th>\n",
       "      <td>ruu siar susun komdigi nezar patria bukti peri...</td>\n",
       "    </tr>\n",
       "    <tr>\n",
       "      <th>4</th>\n",
       "      <td>nezar patria wamenkomdigi perintah gak campur ...</td>\n",
       "    </tr>\n",
       "    <tr>\n",
       "      <th>...</th>\n",
       "      <td>...</td>\n",
       "    </tr>\n",
       "    <tr>\n",
       "      <th>707</th>\n",
       "      <td>hussein buka kotak cium bau busuk buka kardus</td>\n",
       "    </tr>\n",
       "    <tr>\n",
       "      <th>708</th>\n",
       "      <td>cica pulang liput hussein abri yusuf muda dong...</td>\n",
       "    </tr>\n",
       "    <tr>\n",
       "      <th>709</th>\n",
       "      <td>kotak isi kepala babi cica wartawan desk polit...</td>\n",
       "    </tr>\n",
       "    <tr>\n",
       "      <th>710</th>\n",
       "      <td>rabu maret kantor tempo kirim paket kepala bab...</td>\n",
       "    </tr>\n",
       "    <tr>\n",
       "      <th>711</th>\n",
       "      <td>ekor media online liput demo</td>\n",
       "    </tr>\n",
       "  </tbody>\n",
       "</table>\n",
       "<p>712 rows × 1 columns</p>\n",
       "</div>"
      ],
      "text/plain": [
       "                                                  text\n",
       "0    wakil gubernur bal nyoman giri prasta apresias...\n",
       "1    duga intimidasi jurnalis jawa pos radar bal an...\n",
       "2                  bungkam media tanda sakit demokrasi\n",
       "3    ruu siar susun komdigi nezar patria bukti peri...\n",
       "4    nezar patria wamenkomdigi perintah gak campur ...\n",
       "..                                                 ...\n",
       "707      hussein buka kotak cium bau busuk buka kardus\n",
       "708  cica pulang liput hussein abri yusuf muda dong...\n",
       "709  kotak isi kepala babi cica wartawan desk polit...\n",
       "710  rabu maret kantor tempo kirim paket kepala bab...\n",
       "711                       ekor media online liput demo\n",
       "\n",
       "[712 rows x 1 columns]"
      ]
     },
     "execution_count": 17,
     "metadata": {},
     "output_type": "execute_result"
    }
   ],
   "source": [
    "df_clean = df[['clean_text']]\n",
    "df_clean = df_clean.rename(columns={'clean_text': 'text'})\n",
    "df_clean"
   ]
  },
  {
   "cell_type": "code",
   "execution_count": 19,
   "id": "1f6fce4c",
   "metadata": {},
   "outputs": [
    {
     "data": {
      "text/html": [
       "<div>\n",
       "<style scoped>\n",
       "    .dataframe tbody tr th:only-of-type {\n",
       "        vertical-align: middle;\n",
       "    }\n",
       "\n",
       "    .dataframe tbody tr th {\n",
       "        vertical-align: top;\n",
       "    }\n",
       "\n",
       "    .dataframe thead th {\n",
       "        text-align: right;\n",
       "    }\n",
       "</style>\n",
       "<table border=\"1\" class=\"dataframe\">\n",
       "  <thead>\n",
       "    <tr style=\"text-align: right;\">\n",
       "      <th></th>\n",
       "      <th>text</th>\n",
       "    </tr>\n",
       "  </thead>\n",
       "  <tbody>\n",
       "    <tr>\n",
       "      <th>339</th>\n",
       "      <td>pidana jurnalis cedera</td>\n",
       "    </tr>\n",
       "    <tr>\n",
       "      <th>701</th>\n",
       "      <td>harap jaksa kritik langsung ngebungkam</td>\n",
       "    </tr>\n",
       "    <tr>\n",
       "      <th>619</th>\n",
       "      <td>jaksa jancok</td>\n",
       "    </tr>\n",
       "    <tr>\n",
       "      <th>315</th>\n",
       "      <td>yuk ikut twitter space diskusi dgn audiens mod...</td>\n",
       "    </tr>\n",
       "    <tr>\n",
       "      <th>263</th>\n",
       "      <td>nasihat prof bagir man capres bebas pers</td>\n",
       "    </tr>\n",
       "    <tr>\n",
       "      <th>94</th>\n",
       "      <td>ancam tempo selidik bareskrim usut duga teror ...</td>\n",
       "    </tr>\n",
       "    <tr>\n",
       "      <th>445</th>\n",
       "      <td>nilai angka agregat skala fredoom house nilai ...</td>\n",
       "    </tr>\n",
       "    <tr>\n",
       "      <th>320</th>\n",
       "      <td>bebas pers bebas kritik tentang george orwell ...</td>\n",
       "    </tr>\n",
       "    <tr>\n",
       "      <th>114</th>\n",
       "      <td>mari dukung jurnalis berani bicara benar garda...</td>\n",
       "    </tr>\n",
       "    <tr>\n",
       "      <th>376</th>\n",
       "      <td>jurnalisme bungkam sastra bicara seno gumira a...</td>\n",
       "    </tr>\n",
       "    <tr>\n",
       "      <th>513</th>\n",
       "      <td>akses layan hukum latih dukung juang perintah ...</td>\n",
       "    </tr>\n",
       "    <tr>\n",
       "      <th>338</th>\n",
       "      <td>lengkap</td>\n",
       "    </tr>\n",
       "    <tr>\n",
       "      <th>155</th>\n",
       "      <td>revisi siar tingkat kredibilitas jurnalis</td>\n",
       "    </tr>\n",
       "    <tr>\n",
       "      <th>592</th>\n",
       "      <td>usung tema habib rizieq bidik tayang ilc bredel</td>\n",
       "    </tr>\n",
       "    <tr>\n",
       "      <th>357</th>\n",
       "      <td>yuk samasama henti keras jurnalis milik peran ...</td>\n",
       "    </tr>\n",
       "    <tr>\n",
       "      <th>267</th>\n",
       "      <td>selamat ingat pers nasional apresiasi besar de...</td>\n",
       "    </tr>\n",
       "    <tr>\n",
       "      <th>96</th>\n",
       "      <td>bilang kirim kepala babi bangkai tikus kantor ...</td>\n",
       "    </tr>\n",
       "    <tr>\n",
       "      <th>347</th>\n",
       "      <td>penasaran giat kelas pers yuk langsung simak p...</td>\n",
       "    </tr>\n",
       "    <tr>\n",
       "      <th>571</th>\n",
       "      <td>selamat ulang one pers pihak hidup pers indonesia</td>\n",
       "    </tr>\n",
       "    <tr>\n",
       "      <th>440</th>\n",
       "      <td>nastiti ajeng bebas pers jamin undangundang be...</td>\n",
       "    </tr>\n",
       "  </tbody>\n",
       "</table>\n",
       "</div>"
      ],
      "text/plain": [
       "                                                  text\n",
       "339                             pidana jurnalis cedera\n",
       "701             harap jaksa kritik langsung ngebungkam\n",
       "619                                       jaksa jancok\n",
       "315  yuk ikut twitter space diskusi dgn audiens mod...\n",
       "263           nasihat prof bagir man capres bebas pers\n",
       "94   ancam tempo selidik bareskrim usut duga teror ...\n",
       "445  nilai angka agregat skala fredoom house nilai ...\n",
       "320  bebas pers bebas kritik tentang george orwell ...\n",
       "114  mari dukung jurnalis berani bicara benar garda...\n",
       "376  jurnalisme bungkam sastra bicara seno gumira a...\n",
       "513  akses layan hukum latih dukung juang perintah ...\n",
       "338                                            lengkap\n",
       "155          revisi siar tingkat kredibilitas jurnalis\n",
       "592    usung tema habib rizieq bidik tayang ilc bredel\n",
       "357  yuk samasama henti keras jurnalis milik peran ...\n",
       "267  selamat ingat pers nasional apresiasi besar de...\n",
       "96   bilang kirim kepala babi bangkai tikus kantor ...\n",
       "347  penasaran giat kelas pers yuk langsung simak p...\n",
       "571  selamat ulang one pers pihak hidup pers indonesia\n",
       "440  nastiti ajeng bebas pers jamin undangundang be..."
      ]
     },
     "execution_count": 19,
     "metadata": {},
     "output_type": "execute_result"
    }
   ],
   "source": [
    "df_clean.sample(20)"
   ]
  },
  {
   "cell_type": "markdown",
   "id": "e80c7fa3",
   "metadata": {},
   "source": [
    "# **Saved Data Clean**"
   ]
  },
  {
   "cell_type": "code",
   "execution_count": 21,
   "id": "892236df",
   "metadata": {},
   "outputs": [],
   "source": [
    "df_clean.to_csv(\"datasets/tweets_clean.csv\")"
   ]
  }
 ],
 "metadata": {
  "kernelspec": {
   "display_name": "Python 3",
   "language": "python",
   "name": "python3"
  },
  "language_info": {
   "codemirror_mode": {
    "name": "ipython",
    "version": 3
   },
   "file_extension": ".py",
   "mimetype": "text/x-python",
   "name": "python",
   "nbconvert_exporter": "python",
   "pygments_lexer": "ipython3",
   "version": "3.11.4"
  }
 },
 "nbformat": 4,
 "nbformat_minor": 5
}
